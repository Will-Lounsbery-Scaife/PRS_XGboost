{
 "cells": [
  {
   "cell_type": "markdown",
   "id": "d97210d6",
   "metadata": {},
   "source": [
    "## LASSO + XGBoost PRS method "
   ]
  },
  {
   "cell_type": "code",
   "execution_count": 21,
   "id": "13d1eb7c",
   "metadata": {},
   "outputs": [],
   "source": [
    "import numpy as np\n",
    "import pandas as pd\n",
    "from sklearn.linear_model import LassoCV\n",
    "from sklearn.linear_model import Lasso\n",
    "from sklearn.model_selection import train_test_split, KFold\n",
    "import xgboost as xgb\n",
    "from pandas_plink import read_plink\n",
    "from sklearn.metrics import mean_squared_error\n",
    "from sklearn.metrics import r2_score\n",
    "import itertools\n",
    "from collections import Counter\n",
    "from sklearn.impute import SimpleImputer\n",
    "from sklearn.preprocessing import StandardScaler\n",
    "from joblib import Parallel, delayed\n",
    "import pickle\n",
    "import matplotlib.pyplot as plt\n",
    "\n",
    "\n",
    "pd.set_option('display.float_format', '{:.4f}'.format)\n"
   ]
  },
  {
   "cell_type": "code",
   "execution_count": 65,
   "id": "1fe13b10",
   "metadata": {},
   "outputs": [],
   "source": [
    "# read and process genotype and phenotype data\n",
    "\n",
    "def read_genotype_phenotype_data(genotype_data_path, phenotype_data_path):\n",
    "    bim, fam, bed = read_plink(genotype_data_path)\n",
    "    genotype_df = bed.compute().T.astype(np.float64)\n",
    "\n",
    "    genotype_df = pd.DataFrame(genotype_df)\n",
    "    genotype_df.columns = bim['snp'].values\n",
    "\n",
    "    phenotype_df = pd.read_csv(phenotype_data_path, sep=' ', header=None)\n",
    "    \n",
    "    \n",
    "    phenotype_df.columns = ['A', 'B', 'C', 'D', 'E', 'Height']\n",
    "    FIDs = phenotype_df['A'].values\n",
    "    phenotype_df = phenotype_df.drop(columns=['A', 'B', 'C', 'D', 'E'])\n",
    "\n",
    "    \n",
    "    merged_df = pd.concat([genotype_df, phenotype_df], axis=1)\n",
    "\n",
    "    return genotype_df, phenotype_df, merged_df, FIDs\n"
   ]
  },
  {
   "cell_type": "code",
   "execution_count": 66,
   "id": "66735f84",
   "metadata": {
    "scrolled": true
   },
   "outputs": [
    {
     "name": "stderr",
     "output_type": "stream",
     "text": [
      "Mapping files: 100%|██████████████████████████████████████████████████████████████████████████████████| 3/3 [00:01<00:00,  2.46it/s]\n",
      "Mapping files: 100%|██████████████████████████████████████████████████████████████████████████████████| 3/3 [00:00<00:00,  3.05it/s]\n",
      "Mapping files: 100%|██████████████████████████████████████████████████████████████████████████████████| 3/3 [00:01<00:00,  2.55it/s]\n"
     ]
    }
   ],
   "source": [
    "# Read genotype and phenotype data for train, val, and test datasets\n",
    "genotype_df_train, phenotype_df_train, merged_train, FIDs_train = read_genotype_phenotype_data('../data/train_data_VN', '../data/train_data_VN.fam')\n",
    "genotype_df_val, phenotype_df_val, merged_val, FIDs_val = read_genotype_phenotype_data('../data/val_data_VN', '../data/val_data_VN.fam')\n",
    "genotype_df_test, phenotype_df_test, merged_test, FIDs_test = read_genotype_phenotype_data('../data/test_data_VN', '../data/test_data_VN.fam')\n"
   ]
  },
  {
   "cell_type": "code",
   "execution_count": 4,
   "id": "aba26cfd",
   "metadata": {},
   "outputs": [],
   "source": [
    "# Read GWAS summary statistics\n",
    "sumstat_df_VN = pd.read_csv('../data/VN_train_sumstats.ss', sep=' ', header=0)\n",
    "sumstat_df_UK = pd.read_csv('../data/UKBB_height_sumstats.ss', sep='\\t', header=0)\n",
    "sumstat_df_JPN = pd.read_csv('../data/JPN_height_sumstat.ss', sep='\\t', header=0)\n"
   ]
  },
  {
   "cell_type": "code",
   "execution_count": 88,
   "id": "c728de9c",
   "metadata": {},
   "outputs": [],
   "source": [
    "# Create X and y DataFrames\n",
    "X_train = merged_train.drop('Height', axis=1)\n",
    "y_train = merged_train['Height']\n",
    "\n",
    "X_val = merged_val.drop('Height', axis=1)\n",
    "y_val = merged_val['Height']\n",
    "\n",
    "X_test = merged_test.drop('Height', axis=1)\n",
    "y_test = merged_test['Height']\n"
   ]
  },
  {
   "cell_type": "code",
   "execution_count": 89,
   "id": "83286869",
   "metadata": {},
   "outputs": [],
   "source": [
    "# Get a list of columns with more than 300 missing values\n",
    "cols_to_drop = [col for col in X_train.columns if X_train[col].isnull().sum() > 300]\n",
    "\n",
    "# Drop the columns from X_train and X_test and X_val\n",
    "X_train = X_train.drop(cols_to_drop, axis=1)\n",
    "X_test = X_test.drop(cols_to_drop, axis=1)\n",
    "X_val = X_val.drop(cols_to_drop, axis=1)"
   ]
  },
  {
   "cell_type": "code",
   "execution_count": 90,
   "id": "cf82fc7d",
   "metadata": {},
   "outputs": [],
   "source": [
    "# Create an imputer object with median strategy\n",
    "imputer = SimpleImputer(strategy='median')\n",
    "\n",
    "# Impute missing values in the training set\n",
    "X_train_imputed = imputer.fit_transform(X_train)\n",
    "\n",
    "# Impute missing values in the validation and test sets using the same imputer\n",
    "X_val_imputed = imputer.transform(X_val)\n",
    "X_test_imputed = imputer.transform(X_test)\n",
    "\n",
    "# Convert imputed NumPy arrays back to DataFrames\n",
    "X_train = pd.DataFrame(X_train_imputed, columns=X_train.columns)\n",
    "X_val = pd.DataFrame(X_val_imputed, columns=X_val.columns)\n",
    "X_test = pd.DataFrame(X_test_imputed, columns=X_test.columns)\n"
   ]
  },
  {
   "cell_type": "code",
   "execution_count": 91,
   "id": "a1c195de",
   "metadata": {},
   "outputs": [],
   "source": [
    "# Reorder columns for sumstat_df_UK and sumstat_df_JPN to match sumstat_df_VN\n",
    "sumstat_df_UK = sumstat_df_UK[['CHR', 'SNP', 'BP', 'N', 'BETA', 'SE', 'P', 'A1', 'A2', 'MAF']]\n",
    "sumstat_df_JPN = sumstat_df_JPN[['CHR', 'SNP', 'BP', 'N', 'BETA', 'SE', 'P', 'A1', 'A2', 'MAF']]\n",
    "\n",
    "# Standardize column names\n",
    "column_names = ['CHR', 'SNP', 'BP', 'N', 'BETA', 'SE', 'P', 'A1', 'A2', 'MAF']\n",
    "\n",
    "sumstat_df_VN.columns = column_names\n",
    "sumstat_df_UK.columns = column_names\n",
    "sumstat_df_JPN.columns = column_names\n",
    "\n",
    "# sumstat_dfs = [sumstat_df_VN, sumstat_df_UK, sumstat_df_JPN]\n",
    "sumstat_dfs_0 = [sumstat_df_UK, sumstat_df_JPN]\n"
   ]
  },
  {
   "cell_type": "code",
   "execution_count": 92,
   "id": "45de2e26",
   "metadata": {},
   "outputs": [],
   "source": [
    "scaler = StandardScaler()\n",
    "X_train_scaled = scaler.fit_transform(X_train)\n",
    "X_val_scaled = scaler.transform(X_val)\n",
    "X_test_scaled = scaler.transform(X_test)\n"
   ]
  },
  {
   "cell_type": "code",
   "execution_count": 93,
   "id": "6cde0dda",
   "metadata": {},
   "outputs": [],
   "source": [
    "X_train = pd.DataFrame(X_train_scaled, columns=X_train.columns)\n",
    "X_val = pd.DataFrame(X_val_scaled, columns=X_val.columns)\n",
    "X_test = pd.DataFrame(X_test_scaled, columns=X_test.columns)\n"
   ]
  },
  {
   "cell_type": "code",
   "execution_count": 12,
   "id": "d60f74f7",
   "metadata": {},
   "outputs": [],
   "source": [
    "# Create a dictionary containing all the variables\n",
    "data_to_save = {\n",
    "    'X_train': X_train,\n",
    "    'y_train': y_train,\n",
    "    'X_val': X_val,\n",
    "    'y_val': y_val,\n",
    "    'X_test': X_test,\n",
    "    'y_test': y_test\n",
    "}\n",
    "\n",
    "# Save the dictionary to a file\n",
    "with open('all_data_cp7.pkl', 'wb') as f:\n",
    "    pickle.dump(data_to_save, f)\n"
   ]
  },
  {
   "cell_type": "code",
   "execution_count": 94,
   "id": "58f6f961",
   "metadata": {},
   "outputs": [],
   "source": [
    "y_test = test_merged_df_final['Height_y']\n"
   ]
  },
  {
   "cell_type": "code",
   "execution_count": 95,
   "id": "1f9f948f",
   "metadata": {},
   "outputs": [],
   "source": [
    "def get_lasso_mse(alpha, geno_df_snps, y, k, common_snps):\n",
    "    # LASSO feature selection\n",
    "    lasso_cv = LassoCV(alphas=[alpha], max_iter=10000, cv=8, n_jobs=-1)\n",
    "    lasso_cv.fit(geno_df_snps, y)\n",
    "    lasso = Lasso(alpha=lasso_cv.alpha_, max_iter=10000)\n",
    "    lasso.fit(geno_df_snps, y)\n",
    "\n",
    "    snp_coefficients = list(zip(common_snps, lasso.coef_))\n",
    "\n",
    "    # Filter SNPs with top k absolute coefficients\n",
    "    selected_snps_alpha = [snp for snp, coef in sorted(snp_coefficients, key=lambda x: abs(x[1]), reverse=True)[:k]]\n",
    "\n",
    "    # Train a LASSO model using the selected SNPs and calculate the mean squared error\n",
    "    X_train_selected = geno_df_snps[selected_snps_alpha]\n",
    "\n",
    "    lasso_full = Lasso(alpha=alpha, max_iter=10000)\n",
    "    lasso_full.fit(X_train_selected, y)\n",
    "    mse = mean_squared_error(y, lasso_full.predict(X_train_selected))\n",
    "\n",
    "    return mse, selected_snps_alpha, alpha, snp_coefficients\n",
    "\n",
    "def get_lasso_selected_snps(ss_df0, geno_df, y, k=100):\n",
    "    selected_snps = []\n",
    "    alphas = np.logspace(-4, 1, 20)\n",
    "    best_alpha = None\n",
    "    best_mse = float('inf')\n",
    "\n",
    "    ss_df0 = ss_df0[ss_df0['P'] < 1e-4]\n",
    "\n",
    "    # Filter the geno_df for SNPs present in both sumstat_df and geno_df\n",
    "    snps = ss_df0['SNP'].values\n",
    "    common_snps = list(set(snps) & set(geno_df.columns))\n",
    "    geno_df_snps = geno_df.loc[:, common_snps]\n",
    "\n",
    "    results = Parallel(n_jobs=-1)(delayed(get_lasso_mse)(alpha, geno_df_snps, y, k, common_snps) for alpha in alphas)\n",
    "\n",
    "    all_coefficients = []\n",
    "    for mse, selected_snps_alpha, alpha, snp_coefficients in results:\n",
    "        if mse < best_mse:\n",
    "            best_mse = mse\n",
    "            best_alpha = alpha\n",
    "            selected_snps = selected_snps_alpha\n",
    "\n",
    "            print(\"best mse:\", best_mse, \"best alpha:\", best_alpha)\n",
    "        all_coefficients.extend(snp_coefficients)\n",
    "\n",
    "    # Create a DataFrame with all SNPs and their coefficients\n",
    "    all_coefficients_df = pd.DataFrame(all_coefficients, columns=['SNP', 'Coefficient'])\n",
    "    print(all_coefficients_df)\n",
    "    \n",
    "    return selected_snps, best_alpha, all_coefficients_df\n",
    "\n",
    "\n",
    "def xgboost_cv(X, y, params, nfold=3, early_stopping_rounds=10, ntree_limit=None):\n",
    "    dtrain = xgb.DMatrix(X, label=y)\n",
    "    cv_result = xgb.cv(params, dtrain, num_boost_round=ntree_limit, nfold=nfold, early_stopping_rounds=early_stopping_rounds, seed=42, nthread=-1)\n",
    "    return cv_result\n",
    "\n",
    "def train_single_ensemble_model(ss_df, X_train, y_train, X_val, y_val, lasso_output_file_cp7):\n",
    "    # LASSO feature selection\n",
    "    selected_snps, optimal_alpha, all_coefficients_df = get_lasso_selected_snps(ss_df, X_train, y_train)\n",
    "    X_train_selected = X_train[selected_snps]\n",
    "    \n",
    "    # Save LASSO outputs to a file\n",
    "    lasso_output = (selected_snps, optimal_alpha, all_coefficients_df)\n",
    "    with open(lasso_output_file_cp7, 'wb') as f:\n",
    "        pickle.dump(lasso_output, f)\n",
    "        \n",
    "    # XGBoost model\n",
    "    params = {\n",
    "        'learning_rate': 0.05,\n",
    "        'max_depth': 5,\n",
    "        'colsample_bytree': 0.9,\n",
    "        'min_child_weight': 10,\n",
    "        'subsample': 0.5,\n",
    "        'objective': 'reg:squarederror',\n",
    "        'eval_metric': 'rmse',\n",
    "        'seed': 42,\n",
    "        'nthread': -1\n",
    "    }\n",
    "    \n",
    "    print(\"Starting XGBoost!\")\n",
    "\n",
    "    dtrain_selected = xgb.DMatrix(X_train_selected, label=y_train)\n",
    "    cv_result_selected = xgb.cv(params, dtrain_selected, num_boost_round=10000, nfold=3, early_stopping_rounds=10, seed=42)\n",
    "\n",
    "    # Validation set\n",
    "    X_val_selected = X_val[selected_snps]\n",
    "    dval_selected = xgb.DMatrix(X_val_selected, label=y_val)\n",
    "\n",
    "    best_ntree_limit = cv_result_selected.shape[0]\n",
    "    evals = [(dtrain_selected, \"train\"), (dval_selected, \"validation\")]\n",
    "    model = xgb.train(params, dtrain_selected, num_boost_round=best_ntree_limit, evals=evals)\n",
    "\n",
    "    print(all_coefficients_df)\n",
    "    return model, selected_snps, all_coefficients_df\n",
    "\n",
    "\n",
    "def train_ensemble_models(my_sumstat_dfs, X_train, y_train, X_val, y_val, n_jobs=20):\n",
    "    \n",
    "    # Generate unique output file names for each LASSO output\n",
    "    lasso_output_files_cp7 = [f\"lasso_output_cp7_{i}.pkl\" for i in range(len(my_sumstat_dfs))]\n",
    "\n",
    "    models_snps = Parallel(n_jobs=n_jobs)(delayed(train_single_ensemble_model)(sumstat_df, X_train, y_train, X_val, y_val, lasso_output_file_cp7) for sumstat_df, lasso_output_file_cp7 in zip(my_sumstat_dfs, lasso_output_files_cp7))\n",
    "\n",
    "    return models_snps\n",
    "\n",
    "\n"
   ]
  },
  {
   "cell_type": "code",
   "execution_count": null,
   "id": "97a1b9eb",
   "metadata": {},
   "outputs": [],
   "source": [
    "models_snps_coefficients_0 = train_ensemble_models(sumstat_dfs_0, X_train, y_train, X_val, y_val)\n",
    "my_models_0 = [model for model, snps, coefficients_df in models_snps_coefficients_0]\n"
   ]
  },
  {
   "cell_type": "code",
   "execution_count": 17,
   "id": "3503dd4c",
   "metadata": {},
   "outputs": [],
   "source": [
    "#backup_models = my_models_0\n",
    "#backup_model_snps = models_snps_coefficients_0"
   ]
  },
  {
   "cell_type": "code",
   "execution_count": 30,
   "id": "84bb0af3",
   "metadata": {},
   "outputs": [],
   "source": [
    "coefs_df_1 = models_snps_coefficients_0[1][2]\n",
    "coefs_df_0 = models_snps_coefficients_0[0][2]"
   ]
  },
  {
   "cell_type": "code",
   "execution_count": 32,
   "id": "43c68132",
   "metadata": {},
   "outputs": [
    {
     "name": "stdout",
     "output_type": "stream",
     "text": [
      "              SNP  Coefficient\n",
      "1545    rs8041685       0.5436\n",
      "615474  rs7969218       0.4965\n",
      "554284  rs7969218       0.4895\n",
      "676664  rs7969218       0.4859\n",
      "686230  rs2269615       0.4831\n",
      "...           ...          ...\n",
      "373924  rs7991818      -0.8511\n",
      "312734  rs7991818      -0.8645\n",
      "251544  rs7991818      -0.8702\n",
      "129164  rs7991818      -0.9236\n",
      "190354  rs7991818      -0.9262\n",
      "\n",
      "[1223800 rows x 2 columns]\n"
     ]
    }
   ],
   "source": [
    "coefs_df_0_sorted = coefs_df_0.sort_values(by='Coefficient', ascending=False)\n",
    "print(coefs_df_0_sorted)"
   ]
  },
  {
   "cell_type": "code",
   "execution_count": 15,
   "id": "3b9b9fde",
   "metadata": {},
   "outputs": [],
   "source": [
    "def ensemble_predict(models, X, snps_list, weights=None):\n",
    "    if weights is None:\n",
    "        weights = [1 / len(models)] * len(models)\n",
    "    predictions = np.zeros(X.shape[0])\n",
    "    for model, snps, weight in zip(models, snps_list, weights):\n",
    "        dmatrix = xgb.DMatrix(X[snps])\n",
    "        predictions += model.predict(dmatrix) * weight\n",
    "    return predictions\n"
   ]
  },
  {
   "cell_type": "code",
   "execution_count": 79,
   "id": "9084c5bb",
   "metadata": {},
   "outputs": [],
   "source": [
    "# Select the SNPs that were used in the ensemble models\n",
    "selected_snps = list(set(itertools.chain(*[model.feature_names for model in my_models_0])))\n",
    "X_test_selected = X_test[selected_snps]\n",
    "\n",
    "X_val_selected = X_val[selected_snps]\n",
    "\n",
    "\n",
    "aa = models_snps_coefficients_0[0][1]\n",
    "bb = models_snps_coefficients_0[0][2]\n",
    "cc = models_snps_coefficients_0[1][1]\n",
    "dd = models_snps_coefficients_0[1][2]"
   ]
  },
  {
   "cell_type": "code",
   "execution_count": 35,
   "id": "6b5d1377",
   "metadata": {
    "scrolled": true
   },
   "outputs": [
    {
     "name": "stdout",
     "output_type": "stream",
     "text": [
      "Mean Squared Error on the test set:  28884.053253305716\n"
     ]
    }
   ],
   "source": [
    "snps_list = [snps for _, snps, _ in models_snps_coefficients_0]\n",
    "\n",
    "predictions_test = ensemble_predict(my_models_0, X_test, snps_list)\n",
    "predictions_val = ensemble_predict(my_models_0, X_val, snps_list)\n",
    "\n",
    "mse_test = mean_squared_error(y_test, predictions_test)\n",
    "print(\"Mean Squared Error on the test set: \", mse_test)\n",
    "\n",
    "mse_val = mean_squared_error(y_val, predictions_val)\n"
   ]
  },
  {
   "cell_type": "code",
   "execution_count": 37,
   "id": "f4732deb",
   "metadata": {},
   "outputs": [],
   "source": [
    "# Create a dictionary containing all the variables\n",
    "data_to_save = {\n",
    "    'my_models': my_models_0,\n",
    "    'models_snps_coefficients_0': models_snps_coefficients_0,\n",
    "    'X_train': X_train,\n",
    "    'y_train': y_train,\n",
    "    'X_val': X_val,\n",
    "    'y_val': y_val,\n",
    "    'X_test': X_test,\n",
    "    'y_test': y_test\n",
    "}\n",
    "\n",
    "# Save the dictionary to a file\n",
    "with open('all_data_cp7.pkl', 'wb') as f:\n",
    "    pickle.dump(data_to_save, f)\n"
   ]
  },
  {
   "cell_type": "code",
   "execution_count": 41,
   "id": "bcf9a7a6",
   "metadata": {},
   "outputs": [],
   "source": [
    "# Create a function to build the final DataFrame\n",
    "def build_final_df(phenotype_df, predictions, set_name, FIDs):\n",
    "    final_df = phenotype_df.copy()\n",
    "    final_df['IID'] = IIDs\n",
    "    final_df['Predicted_PRS'] = predictions\n",
    "    final_df['Set'] = set_name\n",
    "    return final_df\n",
    "\n",
    "\n",
    "# Build the final DataFrames for test and validation sets\n",
    "final_test_df = build_final_df(phenotype_df_test, predictions_test, 'Test', FIDs_test)\n",
    "final_val_df = build_final_df(phenotype_df_val, predictions_val, 'Validation', FIDs_val)\n",
    "\n",
    "# Combine the test and validation DataFrames\n",
    "final_df = pd.concat([final_test_df, final_val_df], axis=0)\n",
    "final_df.reset_index(drop=True, inplace=True)\n"
   ]
  },
  {
   "cell_type": "code",
   "execution_count": null,
   "id": "e0f54f62",
   "metadata": {},
   "outputs": [],
   "source": [
    "test_pheno = pd.read_csv('../data/test.phenotype', sep = ' ')\n",
    "val_pheno = pd.read_csv('../data/validation.phenotype', sep = ' ')"
   ]
  },
  {
   "cell_type": "code",
   "execution_count": 51,
   "id": "5d935956",
   "metadata": {},
   "outputs": [],
   "source": [
    "test_merged_df_final = final_test_df.merge(test_pheno[['FID', 'Height']], on='FID', how='left')\n",
    "val_merged_df_final = final_val_df.merge(val_pheno[['FID', 'Height']], on='FID', how='left')\n"
   ]
  },
  {
   "cell_type": "code",
   "execution_count": 54,
   "id": "59c07913",
   "metadata": {},
   "outputs": [],
   "source": [
    "test_merged_df_final = test_merged_df_final.drop(columns=['Height_x', 'Set'])\n",
    "val_merged_df_final = val_merged_df_final.drop(columns=['Height_x', 'Set'])"
   ]
  },
  {
   "cell_type": "code",
   "execution_count": 56,
   "id": "7d0950e1",
   "metadata": {},
   "outputs": [],
   "source": [
    "test_merged_df_final.to_csv('final_height_predictions_cp7.csv', index=False)\n",
    "val_merged_df_final.to_csv('final_height_predictions_cp7.csv', index=False)\n"
   ]
  },
  {
   "cell_type": "code",
   "execution_count": 67,
   "id": "f2e99065",
   "metadata": {},
   "outputs": [
    {
     "data": {
      "image/png": "[encoded data removed]",
      "text/plain": [
       "<Figure size 432x288 with 1 Axes>"
      ]
     },
     "metadata": {
      "needs_background": "light"
     },
     "output_type": "display_data"
    }
   ],
   "source": [
    "# Assuming you have a pandas DataFrame called test_merged_df_final\n",
    "height = test_merged_df_final['Predicted_PRS']\n",
    "\n",
    "# Create a histogram of the Height_y column\n",
    "plt.hist(height, bins='auto', alpha=0.7, color='steelblue', edgecolor='black')\n",
    "\n",
    "# Set titles and labels\n",
    "plt.title('Distribution of PRS in test set')\n",
    "plt.xlabel('PRS Height')\n",
    "plt.ylabel('Frequency')\n",
    "\n",
    "# Show the plot\n",
    "plt.show()\n"
   ]
  },
  {
   "cell_type": "code",
   "execution_count": 68,
   "id": "7afa89d5",
   "metadata": {},
   "outputs": [
    {
     "data": {
      "image/png": "[encoded data removed]",
      "text/plain": [
       "<Figure size 432x288 with 1 Axes>"
      ]
     },
     "metadata": {
      "needs_background": "light"
     },
     "output_type": "display_data"
    }
   ],
   "source": [
    "# Assuming you have a pandas DataFrame called test_merged_df_final\n",
    "height = test_merged_df_final['Height_y']\n",
    "\n",
    "# Create a histogram of the Height_y column\n",
    "plt.hist(height, bins='auto', alpha=0.7, color='steelblue', edgecolor='black')\n",
    "\n",
    "# Set titles and labels\n",
    "plt.title('True Distribution of Height in test set')\n",
    "plt.xlabel('Height')\n",
    "plt.ylabel('Frequency')\n",
    "\n",
    "# Show the plot\n",
    "plt.show()\n"
   ]
  },
  {
   "cell_type": "code",
   "execution_count": 69,
   "id": "f68712b2",
   "metadata": {},
   "outputs": [
    {
     "data": {
      "image/png": "[encoded data removed]",
      "text/plain": [
       "<Figure size 432x288 with 1 Axes>"
      ]
     },
     "metadata": {
      "needs_background": "light"
     },
     "output_type": "display_data"
    }
   ],
   "source": [
    "# Assuming you have a pandas DataFrame called test_merged_df_final\n",
    "height_val = val_merged_df_final['Predicted_PRS']\n",
    "\n",
    "# Create a histogram of the Height_y column\n",
    "plt.hist(height_val, bins='auto', alpha=0.7, color='steelblue', edgecolor='black')\n",
    "\n",
    "# Set titles and labels\n",
    "plt.title('Distribution of PRS in val set')\n",
    "plt.xlabel('PRS Height')\n",
    "plt.ylabel('Frequency')\n",
    "\n",
    "# Show the plot\n",
    "plt.show()\n"
   ]
  },
  {
   "cell_type": "code",
   "execution_count": 70,
   "id": "0524d346",
   "metadata": {},
   "outputs": [
    {
     "data": {
      "image/png": "[encoded data removed]",
      "text/plain": [
       "<Figure size 432x288 with 1 Axes>"
      ]
     },
     "metadata": {
      "needs_background": "light"
     },
     "output_type": "display_data"
    }
   ],
   "source": [
    "# Assuming you have a pandas DataFrame called test_merged_df_final\n",
    "height_val = val_merged_df_final['Height_y']\n",
    "\n",
    "# Create a histogram of the Height_y column\n",
    "plt.hist(height_val, bins='auto', alpha=0.7, color='steelblue', edgecolor='black')\n",
    "\n",
    "# Set titles and labels\n",
    "plt.title('True distribution of Height in val set')\n",
    "plt.xlabel('Height')\n",
    "plt.ylabel('Frequency')\n",
    "\n",
    "# Show the plot\n",
    "plt.show()\n"
   ]
  },
  {
   "cell_type": "code",
   "execution_count": 76,
   "id": "df48a8be",
   "metadata": {},
   "outputs": [],
   "source": [
    "y_test = test_merged_df_final['Height_y']\n",
    "y_val = val_merged_df_final['Height_y']"
   ]
  },
  {
   "cell_type": "code",
   "execution_count": 77,
   "id": "59e7c288",
   "metadata": {},
   "outputs": [
    {
     "name": "stdout",
     "output_type": "stream",
     "text": [
      "R-squared on the test set:  -0.1338954505868699\n",
      "R-squared on the validation set:  -0.21929074725533315\n"
     ]
    }
   ],
   "source": [
    "from sklearn.metrics import r2_score\n",
    "\n",
    "r2_test = r2_score(y_test, predictions_test)\n",
    "print(\"R-squared on the test set: \", r2_test)\n",
    "\n",
    "r2_val = r2_score(y_val, predictions_val)\n",
    "print(\"R-squared on the validation set: \", r2_val)\n"
   ]
  },
  {
   "cell_type": "code",
   "execution_count": 80,
   "id": "2bb1155a",
   "metadata": {},
   "outputs": [
    {
     "name": "stdout",
     "output_type": "stream",
     "text": [
      "Mean Squared Error on the validation set for each model:  [78.55791598584865, 88.2686539504049]\n",
      "R-squared on the validation set for each model:  [-0.29285222570561587, -0.4526648815426437]\n",
      "Mean Squared Error on the test set for each model:  [70.62455224568767, 77.27719955769336]\n",
      "R-squared on the test set for each model:  [-0.24030607952329075, -0.35713965430193695]\n"
     ]
    }
   ],
   "source": [
    "def get_model_performance(model, X, y, snps):\n",
    "    dmatrix = xgb.DMatrix(X[snps])\n",
    "    predictions = model.predict(dmatrix)\n",
    "    mse = mean_squared_error(y, predictions)\n",
    "    r2 = r2_score(y, predictions)\n",
    "    return mse, r2\n",
    "\n",
    "mse_vals = []\n",
    "r2_vals = []\n",
    "mse_tests = []\n",
    "r2_tests = []\n",
    "\n",
    "for model, snps, _ in models_snps_coefficients_0:\n",
    "    mse_val, r2_val = get_model_performance(model, X_val, y_val, snps)\n",
    "    mse_test, r2_test = get_model_performance(model, X_test, y_test, snps)\n",
    "\n",
    "    mse_vals.append(mse_val)\n",
    "    r2_vals.append(r2_val)\n",
    "    mse_tests.append(mse_test)\n",
    "    r2_tests.append(r2_test)\n",
    "\n",
    "print(\"Mean Squared Error on the validation set for each model: \", mse_vals)\n",
    "print(\"R-squared on the validation set for each model: \", r2_vals)\n",
    "print(\"Mean Squared Error on the test set for each model: \", mse_tests)\n",
    "print(\"R-squared on the test set for each model: \", r2_tests)\n"
   ]
  },
  {
   "cell_type": "code",
   "execution_count": 81,
   "id": "dd0af05e",
   "metadata": {
    "scrolled": true
   },
   "outputs": [
    {
     "ename": "TypeError",
     "evalue": "('Expecting data to be a DMatrix object, got: ', <class 'pandas.core.frame.DataFrame'>)",
     "output_type": "error",
     "traceback": [
      "\u001b[0;31m---------------------------------------------------------------------------\u001b[0m",
      "\u001b[0;31mTypeError\u001b[0m                                 Traceback (most recent call last)",
      "\u001b[0;32m/tmp/ipykernel_71178/4213175912.py\u001b[0m in \u001b[0;36m<module>\u001b[0;34m\u001b[0m\n\u001b[1;32m     44\u001b[0m \u001b[0;32mfor\u001b[0m \u001b[0mi\u001b[0m\u001b[0;34m,\u001b[0m \u001b[0mmodel\u001b[0m \u001b[0;32min\u001b[0m \u001b[0menumerate\u001b[0m\u001b[0;34m(\u001b[0m\u001b[0mmy_models_0\u001b[0m\u001b[0;34m,\u001b[0m \u001b[0;36m1\u001b[0m\u001b[0;34m)\u001b[0m\u001b[0;34m:\u001b[0m\u001b[0;34m\u001b[0m\u001b[0;34m\u001b[0m\u001b[0m\n\u001b[1;32m     45\u001b[0m     \u001b[0;31m# Get predictions for test and validation sets\u001b[0m\u001b[0;34m\u001b[0m\u001b[0;34m\u001b[0m\u001b[0;34m\u001b[0m\u001b[0m\n\u001b[0;32m---> 46\u001b[0;31m     \u001b[0mpredictions_test\u001b[0m \u001b[0;34m=\u001b[0m \u001b[0mmodel\u001b[0m\u001b[0;34m.\u001b[0m\u001b[0mpredict\u001b[0m\u001b[0;34m(\u001b[0m\u001b[0mphenotype_df_test\u001b[0m\u001b[0;34m)\u001b[0m\u001b[0;34m\u001b[0m\u001b[0;34m\u001b[0m\u001b[0m\n\u001b[0m\u001b[1;32m     47\u001b[0m     \u001b[0mpredictions_val\u001b[0m \u001b[0;34m=\u001b[0m \u001b[0mmodel\u001b[0m\u001b[0;34m.\u001b[0m\u001b[0mpredict\u001b[0m\u001b[0;34m(\u001b[0m\u001b[0mphenotype_df_val\u001b[0m\u001b[0;34m)\u001b[0m\u001b[0;34m\u001b[0m\u001b[0;34m\u001b[0m\u001b[0m\n\u001b[1;32m     48\u001b[0m \u001b[0;34m\u001b[0m\u001b[0m\n",
      "\u001b[0;32m~/anaconda3/envs/transprs/lib/python3.8/site-packages/xgboost/core.py\u001b[0m in \u001b[0;36mpredict\u001b[0;34m(self, data, output_margin, ntree_limit, pred_leaf, pred_contribs, approx_contribs, pred_interactions, validate_features, training, iteration_range, strict_shape)\u001b[0m\n\u001b[1;32m   2133\u001b[0m         \"\"\"\n\u001b[1;32m   2134\u001b[0m         \u001b[0;32mif\u001b[0m \u001b[0;32mnot\u001b[0m \u001b[0misinstance\u001b[0m\u001b[0;34m(\u001b[0m\u001b[0mdata\u001b[0m\u001b[0;34m,\u001b[0m \u001b[0mDMatrix\u001b[0m\u001b[0;34m)\u001b[0m\u001b[0;34m:\u001b[0m\u001b[0;34m\u001b[0m\u001b[0;34m\u001b[0m\u001b[0m\n\u001b[0;32m-> 2135\u001b[0;31m             \u001b[0;32mraise\u001b[0m \u001b[0mTypeError\u001b[0m\u001b[0;34m(\u001b[0m\u001b[0;34m'Expecting data to be a DMatrix object, got: '\u001b[0m\u001b[0;34m,\u001b[0m \u001b[0mtype\u001b[0m\u001b[0;34m(\u001b[0m\u001b[0mdata\u001b[0m\u001b[0;34m)\u001b[0m\u001b[0;34m)\u001b[0m\u001b[0;34m\u001b[0m\u001b[0;34m\u001b[0m\u001b[0m\n\u001b[0m\u001b[1;32m   2136\u001b[0m         \u001b[0;32mif\u001b[0m \u001b[0mvalidate_features\u001b[0m\u001b[0;34m:\u001b[0m\u001b[0;34m\u001b[0m\u001b[0;34m\u001b[0m\u001b[0m\n\u001b[1;32m   2137\u001b[0m             \u001b[0mself\u001b[0m\u001b[0;34m.\u001b[0m\u001b[0m_validate_dmatrix_features\u001b[0m\u001b[0;34m(\u001b[0m\u001b[0mdata\u001b[0m\u001b[0;34m)\u001b[0m\u001b[0;34m\u001b[0m\u001b[0;34m\u001b[0m\u001b[0m\n",
      "\u001b[0;31mTypeError\u001b[0m: ('Expecting data to be a DMatrix object, got: ', <class 'pandas.core.frame.DataFrame'>)"
     ]
    }
   ],
   "source": [
    "import matplotlib.pyplot as plt\n",
    "\n",
    "def plot_distributions(predictions_test, predictions_val, test_pheno, val_pheno, model_name):\n",
    "    # Build the final DataFrames for test and validation sets\n",
    "    final_test_df = build_final_df(phenotype_df_test, predictions_test, 'Test', FIDs_test)\n",
    "    final_val_df = build_final_df(phenotype_df_val, predictions_val, 'Validation', FIDs_val)\n",
    "\n",
    "    test_merged_df_final = final_test_df.merge(test_pheno[['FID', 'Height']], on='FID', how='left')\n",
    "    val_merged_df_final = final_val_df.merge(val_pheno[['FID', 'Height']], on='FID', how='left')\n",
    "\n",
    "    # Plotting\n",
    "    fig, axes = plt.subplots(2, 2, figsize=(12, 8))\n",
    "    fig.suptitle(f'{model_name} Distributions')\n",
    "\n",
    "    # Distribution of PRS in the test set\n",
    "    axes[0, 0].hist(test_merged_df_final['Predicted_PRS'], bins='auto', alpha=0.7, color='steelblue', edgecolor='black')\n",
    "    axes[0, 0].set_title('Distribution of PRS in test set')\n",
    "    axes[0, 0].set_xlabel('PRS height')\n",
    "    axes[0, 0].set_ylabel('Frequency')\n",
    "\n",
    "    # True Distribution of Height in the test set\n",
    "    axes[0, 1].hist(test_merged_df_final['Height_y'], bins='auto', alpha=0.7, color='steelblue', edgecolor='black')\n",
    "    axes[0, 1].set_title('True Distribution of Height in test set')\n",
    "    axes[0, 1].set_xlabel('Height')\n",
    "    axes[0, 1].set_ylabel('Frequency')\n",
    "\n",
    "    # Distribution of PRS in the validation set\n",
    "    axes[1, 0].hist(val_merged_df_final['Predicted_PRS'], bins='auto', alpha=0.7, color='steelblue', edgecolor='black')\n",
    "    axes[1, 0].set_title('Distribution of PRS in val set')\n",
    "    axes[1, 0].set_xlabel('PRS height')\n",
    "    axes[1, 0].set_ylabel('Frequency')\n",
    "\n",
    "    # True distribution of Height in the validation set\n",
    "    axes[1, 1].hist(val_merged_df_final['Height_y'], bins='auto', alpha=0.7, color='steelblue', edgecolor='black')\n",
    "    axes[1, 1].set_title('True distribution of Height in val set')\n",
    "    axes[1, 1].set_xlabel('Height')\n",
    "    axes[1, 1].set_ylabel('Frequency')\n",
    "\n",
    "    plt.tight_layout()\n",
    "    plt.show()\n",
    "\n",
    "# Call the function for each model, providing the necessary data\n",
    "# Assuming your models are stored in `my_models_0`\n",
    "for i, model in enumerate(my_models_0, 1):\n",
    "    # Get predictions for test and validation sets\n",
    "    predictions_test = model.predict(phenotype_df_test)\n",
    "    predictions_val = model.predict(phenotype_df_val)\n",
    "\n",
    "    # Call the plot_distributions function for the current model\n",
    "    plot_distributions(predictions_test, predictions_val, test_pheno, val_pheno, f'Model {i}')\n",
    "\n"
   ]
  },
  {
   "cell_type": "code",
   "execution_count": null,
   "id": "99693677",
   "metadata": {},
   "outputs": [],
   "source": []
  }
 ],
 "metadata": {
  "kernelspec": {
   "display_name": "Python 3 (ipykernel)",
   "language": "python",
   "name": "python3"
  },
  "language_info": {
   "codemirror_mode": {
    "name": "ipython",
    "version": 3
   },
   "file_extension": ".py",
   "mimetype": "text/x-python",
   "name": "python",
   "nbconvert_exporter": "python",
   "pygments_lexer": "ipython3",
   "version": "3.8.10"
  }
 },
 "nbformat": 4,
 "nbformat_minor": 5
}
