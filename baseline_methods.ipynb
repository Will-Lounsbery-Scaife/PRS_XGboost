{
 "cells": [
  {
   "cell_type": "code",
   "execution_count": 1,
   "id": "09c20321-61c2-4e6b-a9b4-ab079c3d4e38",
   "metadata": {},
   "outputs": [],
   "source": [
    "#import libraries\n",
    "import transprs as tprs\n",
    "import pandas as pd"
   ]
  },
  {
   "cell_type": "code",
   "execution_count": 2,
   "id": "9ef04554-5153-461b-b9fa-1dcdc3710df1",
   "metadata": {
    "scrolled": true
   },
   "outputs": [
    {
     "name": "stdout",
     "output_type": "stream",
     "text": [
      "Reading the Test genotype...\n"
     ]
    },
    {
     "name": "stderr",
     "output_type": "stream",
     "text": [
      "Mapping files: 100%|█████████████████████████████████████████████████████████████████████████████| 3/3 [00:02<00:00,  1.23it/s]\n"
     ]
    },
    {
     "name": "stdout",
     "output_type": "stream",
     "text": [
      "Reading the Validation genotype...\n"
     ]
    },
    {
     "name": "stderr",
     "output_type": "stream",
     "text": [
      "Mapping files: 100%|█████████████████████████████████████████████████████████████████████████████| 3/3 [00:02<00:00,  1.03it/s]\n"
     ]
    },
    {
     "name": "stdout",
     "output_type": "stream",
     "text": [
      "Phenotype stored in .phenotype\n",
      "Phenotype stored in .phenotype_val\n"
     ]
    }
   ],
   "source": [
    "#setup processor object to calculate PRS. Provide input data.\n",
    "UK_biobank_processor = tprs.read_input(prefix_test=\"data/test_data_VN\",\n",
    "                test_phenotype=\"data/test.phenotype\",\n",
    "                sumstats_path=\"data/UKBB_height_sumstats.ss\",\n",
    "                prefix_validation=\"data/val_data_VN\",\n",
    "                validation_phenotype=\"data/validation.phenotype\",\n",
    "                workdir=\"UKBB_targets\")"
   ]
  },
  {
   "cell_type": "code",
   "execution_count": 3,
   "id": "b2acbe43-ef5a-4451-988f-b88ca5354319",
   "metadata": {
    "tags": []
   },
   "outputs": [
    {
     "name": "stdout",
     "output_type": "stream",
     "text": [
      "PLINK v1.90b6.21 64-bit (19 Oct 2020)          www.cog-genomics.org/plink/1.9/\n",
      "(C) 2005-2020 Shaun Purcell, Christopher Chang   GNU General Public License v3\n",
      "Logging to tmp.log.\n",
      "Options in effect:\n",
      "--bfile tmp\n",
      "--indep-pairwise 200 50 0.25\n",
      "--out tmp\n",
      "\n",
      "514394 MB RAM detected; reserving 257197 MB for main workspace.\n",
      "987036 variants loaded from .bim file.\n",
      "152 people (0 males, 0 females, 152 ambiguous) loaded from .fam.\n",
      "Ambiguous sex IDs written to tmp.nosex .\n",
      "Using 1 thread (no multithreaded calculations invoked).\n",
      "Before main variant filters, 152 founders and 0 nonfounders present.\n",
      "Calculating allele frequencies... 10111213141516171819202122232425262728293031323334353637383940414243444546474849505152535455565758596061626364656667686970717273747576777879808182838485868788899091929394959697989 done.\n",
      "Total genotyping rate is 0.999556.\n",
      "987036 variants and 152 people pass filters and QC.\n",
      "Note: No phenotypes present.\n",
      "Pruned 72115 variants from chromosome 1, leaving 8751.\n",
      "Pruned 73729 variants from chromosome 2, leaving 8133.\n",
      "Pruned 61501 variants from chromosome 3, leaving 7335.\n",
      "Pruned 54590 variants from chromosome 4, leaving 6764.\n",
      "Pruned 55251 variants from chromosome 5, leaving 6522.\n",
      "Pruned 59723 variants from chromosome 6, leaving 6503.\n",
      "Pruned 48477 variants from chromosome 7, leaving 5985.\n",
      "Pruned 48326 variants from chromosome 8, leaving 5473.\n",
      "Pruned 41048 variants from chromosome 9, leaving 5236.\n",
      "Pruned 47131 variants from chromosome 10, leaving 5665.\n",
      "Pruned 45766 variants from chromosome 11, leaving 5175.\n",
      "Pruned 42989 variants from chromosome 12, leaving 5554.\n",
      "Pruned 32906 variants from chromosome 13, leaving 4107.\n",
      "Pruned 28949 variants from chromosome 14, leaving 3742.\n",
      "Pruned 26659 variants from chromosome 15, leaving 3716.\n",
      "Pruned 26775 variants from chromosome 16, leaving 4036.\n",
      "Pruned 22812 variants from chromosome 17, leaving 3769.\n",
      "Pruned 25370 variants from chromosome 18, leaving 3733.\n",
      "Pruned 15737 variants from chromosome 19, leaving 2965.\n",
      "Pruned 22536 variants from chromosome 20, leaving 3303.\n",
      "Pruned 12441 variants from chromosome 21, leaving 1781.\n",
      "Pruned 11938 variants from chromosome 22, leaving 2019.\n",
      "Pruning complete.  876769 of 987036 variants removed.\n",
      "Marker lists written to tmp.prune.in and tmp.prune.out .\n",
      "PLINK v1.90b6.21 64-bit (19 Oct 2020)          www.cog-genomics.org/plink/1.9/\n",
      "(C) 2005-2020 Shaun Purcell, Christopher Chang   GNU General Public License v3\n",
      "Logging to tmp.log.\n",
      "Options in effect:\n",
      "--bfile tmp\n",
      "--extract tmp.prune.in\n",
      "--out tmp\n",
      "--pca 6\n",
      "\n",
      "514394 MB RAM detected; reserving 257197 MB for main workspace.\n",
      "987036 variants loaded from .bim file.\n",
      "152 people (0 males, 0 females, 152 ambiguous) loaded from .fam.\n",
      "Ambiguous sex IDs written to tmp.nosex .\n",
      "--extract: 110267 variants remaining.\n",
      "Using up to 55 threads (change this with --threads).\n",
      "Before main variant filters, 152 founders and 0 nonfounders present.\n",
      "Calculating allele frequencies... 10111213141516171819202122232425262728293031323334353637383940414243444546474849505152535455565758596061626364656667686970717273747576777879808182838485868788899091929394959697989 done.\n",
      "Total genotyping rate is 0.999491.\n",
      "110267 variants and 152 people pass filters and QC.\n",
      "Note: No phenotypes present.\n",
      "Relationship matrix calculation complete.\n",
      "--pca: Results saved to tmp.eigenval and tmp.eigenvec .\n",
      "PCA result is stored in .phenotype\n",
      "PLINK v1.90b6.21 64-bit (19 Oct 2020)          www.cog-genomics.org/plink/1.9/\n",
      "(C) 2005-2020 Shaun Purcell, Christopher Chang   GNU General Public License v3\n",
      "Logging to tmp.log.\n",
      "Options in effect:\n",
      "--bfile tmp\n",
      "--indep-pairwise 200 50 0.25\n",
      "--out tmp\n",
      "\n",
      "514394 MB RAM detected; reserving 257197 MB for main workspace.\n",
      "987036 variants loaded from .bim file.\n",
      "152 people (0 males, 0 females, 152 ambiguous) loaded from .fam.\n",
      "Ambiguous sex IDs written to tmp.nosex .\n",
      "Using 1 thread (no multithreaded calculations invoked).\n",
      "Before main variant filters, 152 founders and 0 nonfounders present.\n",
      "Calculating allele frequencies... 10111213141516171819202122232425262728293031323334353637383940414243444546474849505152535455565758596061626364656667686970717273747576777879808182838485868788899091929394959697989 done.\n",
      "Total genotyping rate is 0.999535.\n",
      "987036 variants and 152 people pass filters and QC.\n",
      "Note: No phenotypes present.\n",
      "Pruned 72133 variants from chromosome 1, leaving 8733.\n",
      "Pruned 73718 variants from chromosome 2, leaving 8144.\n",
      "Pruned 61474 variants from chromosome 3, leaving 7362.\n",
      "Pruned 54622 variants from chromosome 4, leaving 6732.\n",
      "Pruned 55182 variants from chromosome 5, leaving 6591.\n",
      "Pruned 59768 variants from chromosome 6, leaving 6458.\n",
      "Pruned 48484 variants from chromosome 7, leaving 5978.\n",
      "Pruned 48338 variants from chromosome 8, leaving 5461.\n",
      "Pruned 40981 variants from chromosome 9, leaving 5303.\n",
      "Pruned 47148 variants from chromosome 10, leaving 5648.\n",
      "Pruned 45782 variants from chromosome 11, leaving 5159.\n",
      "Pruned 43036 variants from chromosome 12, leaving 5507.\n",
      "Pruned 32903 variants from chromosome 13, leaving 4110.\n",
      "Pruned 28996 variants from chromosome 14, leaving 3695.\n",
      "Pruned 26602 variants from chromosome 15, leaving 3773.\n",
      "Pruned 26753 variants from chromosome 16, leaving 4058.\n",
      "Pruned 22850 variants from chromosome 17, leaving 3731.\n",
      "Pruned 25332 variants from chromosome 18, leaving 3771.\n",
      "Pruned 15735 variants from chromosome 19, leaving 2967.\n",
      "Pruned 22566 variants from chromosome 20, leaving 3273.\n",
      "Pruned 12395 variants from chromosome 21, leaving 1827.\n",
      "Pruned 11947 variants from chromosome 22, leaving 2010.\n",
      "Pruning complete.  876745 of 987036 variants removed.\n",
      "Marker lists written to tmp.prune.in and tmp.prune.out .\n",
      "PLINK v1.90b6.21 64-bit (19 Oct 2020)          www.cog-genomics.org/plink/1.9/\n",
      "(C) 2005-2020 Shaun Purcell, Christopher Chang   GNU General Public License v3\n",
      "Logging to tmp.log.\n",
      "Options in effect:\n",
      "--bfile tmp\n",
      "--extract tmp.prune.in\n",
      "--out tmp\n",
      "--pca 6\n",
      "\n",
      "514394 MB RAM detected; reserving 257197 MB for main workspace.\n",
      "987036 variants loaded from .bim file.\n",
      "152 people (0 males, 0 females, 152 ambiguous) loaded from .fam.\n",
      "Ambiguous sex IDs written to tmp.nosex .\n",
      "--extract: 110291 variants remaining.\n",
      "Using up to 55 threads (change this with --threads).\n",
      "Before main variant filters, 152 founders and 0 nonfounders present.\n",
      "Calculating allele frequencies... 10111213141516171819202122232425262728293031323334353637383940414243444546474849505152535455565758596061626364656667686970717273747576777879808182838485868788899091929394959697989 done.\n",
      "Total genotyping rate is 0.999489.\n",
      "110291 variants and 152 people pass filters and QC.\n",
      "Note: No phenotypes present.\n",
      "Relationship matrix calculation complete.\n",
      "--pca: Results saved to tmp.eigenval and tmp.eigenvec .\n",
      "PCA result is stored in .phenotype\n",
      "Stored sumstats UKBB_targets/preprocessed_sumstats in working directory\n",
      "Stored test genotype UKBB_targets/preprocessed_test in working directory\n",
      "Stored validation genotype UKBB_targets/preprocessed_test in working directory\n",
      "Stored test genotype UKBB_targets/preprocessed_test in working directory\n"
     ]
    }
   ],
   "source": [
    "#Execute preprocess step, leveraging PLINK\n",
    "tprs.Preprocessing(UK_biobank_processor, n_components=6)"
   ]
  },
  {
   "cell_type": "code",
   "execution_count": 4,
   "id": "480154ab-5fa1-4823-9552-fddf1609095a",
   "metadata": {
    "tags": []
   },
   "outputs": [
    {
     "name": "stdout",
     "output_type": "stream",
     "text": [
      "Clumping is running...\n",
      "PLINK v1.90b6.21 64-bit (19 Oct 2020)          www.cog-genomics.org/plink/1.9/\n",
      "(C) 2005-2020 Shaun Purcell, Christopher Chang   GNU General Public License v3\n",
      "Logging to tmp_out.log.\n",
      "Options in effect:\n",
      "--bfile UKBB_targets/preprocessed_validation\n",
      "--clump UKBB_targets/preprocessed_sumstats\n",
      "--clump-field P\n",
      "--clump-kb 250\n",
      "--clump-p1 1\n",
      "--clump-r2 0.5\n",
      "--clump-snp-field SNP\n",
      "--out tmp_out\n",
      "\n",
      "514394 MB RAM detected; reserving 257197 MB for main workspace.\n",
      "987036 variants loaded from .bim file.\n",
      "152 people (0 males, 0 females, 152 ambiguous) loaded from .fam.\n",
      "Ambiguous sex IDs written to tmp_out.nosex .\n",
      "Using 1 thread (no multithreaded calculations invoked).\n",
      "Before main variant filters, 152 founders and 0 nonfounders present.\n",
      "Calculating allele frequencies... 10111213141516171819202122232425262728293031323334353637383940414243444546474849505152535455565758596061626364656667686970717273747576777879808182838485868788899091929394959697989 done.\n",
      "Total genotyping rate is 0.999535.\n",
      "987036 variants and 152 people pass filters and QC.\n",
      "Note: No phenotypes present.\n",
      "--clump: 183506 clumps formed from 658305 top variants.\n",
      "Results written to tmp_out.clumped .\n",
      "Done clumping!\n",
      "The clumping result stores in .adjusted_ss['clumping']!\n",
      "--- Done in 0:06:22 ---\n",
      "Extracting adjusted sumstats from clumping method...\n",
      "Generating PRS...\n",
      "PLINK v1.90b6.21 64-bit (19 Oct 2020)          www.cog-genomics.org/plink/1.9/\n",
      "(C) 2005-2020 Shaun Purcell, Christopher Chang   GNU General Public License v3\n",
      "Logging to tmp_results.log.\n",
      "Options in effect:\n",
      "  --bfile UKBB_targets/preprocessed_validation\n",
      "  --out tmp_results\n",
      "  --q-score-range tmp_range_list tmp_SNP.pvalue\n",
      "  --score UKBB_targets/adjusted_sumstats_clumping 3 4 9 header sum\n",
      "\n",
      "514394 MB RAM detected; reserving 257197 MB for main workspace.\n",
      "987036 variants loaded from .bim file.\n",
      "152 people (0 males, 0 females, 152 ambiguous) loaded from .fam.\n",
      "Ambiguous sex IDs written to tmp_results.nosex .\n",
      "Using 1 thread (no multithreaded calculations invoked).\n",
      "Before main variant filters, 152 founders and 0 nonfounders present.\n",
      "Calculating allele frequencies... 101112131415161718192021222324252627282930313233343536373839404142434445464748495051525354555657585960616263646566676869707172737475767778798081828384858687888990919293949596979899%"
     ]
    },
    {
     "name": "stderr",
     "output_type": "stream",
     "text": [
      "Warning: 130 lines skipped in --score file (0 due to variant ID mismatch, 130\n",
      "due to allele code mismatch); see tmp_results.nopred for details.\n",
      "Warning: 131 lines skipped in --q-score-range data file.\n"
     ]
    },
    {
     "name": "stdout",
     "output_type": "stream",
     "text": [
      " done.\n",
      "Total genotyping rate is 0.999535.\n",
      "987036 variants and 152 people pass filters and QC.\n",
      "Note: No phenotypes present.\n",
      "--score: 183376 valid predictors loaded.\n",
      "--score: 17 ranges processed.\n",
      "Results written to tmp_results.*.profile.\n",
      "PRS is generated!\n",
      "The PRS result stores in .prs_validation['clumping']!\n",
      "--- Done in 0:00:02 ---\n",
      "The best fit p-value is 0.001\n",
      "The best fit result is stored in processor.prs_validation['clumping']['best_fit']\n",
      "The best fit result is stored in processor.tuning['clumping']['coef_squared']\n",
      "Extracting adjusted sumstats from clumping method...\n",
      "Generating PRS...\n",
      "PLINK v1.90b6.21 64-bit (19 Oct 2020)          www.cog-genomics.org/plink/1.9/\n",
      "(C) 2005-2020 Shaun Purcell, Christopher Chang   GNU General Public License v3\n",
      "Logging to tmp_results.log.\n",
      "Options in effect:\n",
      "  --bfile UKBB_targets/preprocessed_test\n",
      "  --out tmp_results\n",
      "  --q-score-range tmp_range_list tmp_SNP.pvalue\n",
      "  --score UKBB_targets/adjusted_sumstats_clumping 3 4 9 header sum\n",
      "\n",
      "514394 MB RAM detected; reserving 257197 MB for main workspace.\n",
      "987036 variants loaded from .bim file.\n",
      "152 people (0 males, 0 females, 152 ambiguous) loaded from .fam.\n",
      "Ambiguous sex IDs written to tmp_results.nosex .\n",
      "Using 1 thread (no multithreaded calculations invoked).\n",
      "Before main variant filters, 152 founders and 0 nonfounders present.\n",
      "Calculating allele frequencies... 10111213141516171819202122232425262728293031323334353637383940414243444546474849505152535455565758596061626364656667686970717273747576777879808182838485868788899091929394959697989 done.\n",
      "Total genotyping rate is 0.999556.\n",
      "987036 variants and 152 people pass filters and QC.\n",
      "Note: No phenotypes present.\n",
      "--score: 183376 valid predictors loaded.\n",
      "--score: 1 range processed.\n",
      "Results written to tmp_results.*.profile.\n",
      "PRS is generated!\n",
      "The PRS result stores in .prs_test['clumping']!\n",
      "--- Done in 0:00:01 ---\n",
      "The best fit p-value is 0.001\n",
      "The best fit result is stored in processor.prs_test['clumping']['best_fit']\n",
      "The best fit result is stored in processor.performance['clumping']['coef_squared']\n"
     ]
    },
    {
     "name": "stderr",
     "output_type": "stream",
     "text": [
      "Warning: 130 lines skipped in --score file (0 due to variant ID mismatch, 130\n",
      "due to allele code mismatch); see tmp_results.nopred for details.\n",
      "Warning: 131 lines skipped in --q-score-range data file.\n"
     ]
    }
   ],
   "source": [
    "#Run P+T Clumping PRS Scoring\n",
    "tprs.methods.clumping(UK_biobank_processor)\n",
    "tprs.scoring.generate_prs(UK_biobank_processor,method=\"clumping\")\n",
    "tprs.metrics.coef_squared_evaluation(UK_biobank_processor,method=\"clumping\",trait_col=\"Height\",prs_col=\"SCORESUM\")\n",
    "tprs.scoring.generate_prs(UK_biobank_processor,method=\"clumping\",validate=False)\n",
    "tprs.metrics.coef_squared_evaluation(UK_biobank_processor,method=\"clumping\",trait_col=\"Height\",prs_col=\"SCORESUM\",validate=False)"
   ]
  },
  {
   "cell_type": "code",
   "execution_count": 5,
   "id": "2398fdce",
   "metadata": {},
   "outputs": [
    {
     "name": "stdout",
     "output_type": "stream",
     "text": [
      "               FID            IID  PHENO    CNT   CNT2  SCORESUM\n",
      "0    VN_01_00_0016  VN_01_00_0016     -9  30898  21030  1.526000\n",
      "1    VN_01_00_0029  VN_01_00_0029     -9  30898  20871  0.437121\n",
      "2    VN_01_00_0062  VN_01_00_0062     -9  30896  21017  3.561820\n",
      "3    VN_01_00_0067  VN_01_00_0067     -9  30896  21037  0.107552\n",
      "4    VN_01_00_0077  VN_01_00_0077     -9  30900  20918  0.716997\n",
      "..             ...            ...    ...    ...    ...       ...\n",
      "147  VN_04_01_0282  VN_04_01_0282     -9  30892  21023 -0.296305\n",
      "148  VN_04_01_0283  VN_04_01_0283     -9  30896  20987  0.144684\n",
      "149  VN_04_01_0287  VN_04_01_0287     -9  30894  21002  1.154500\n",
      "150  VN_04_01_0291  VN_04_01_0291     -9  30896  20923  1.407790\n",
      "151  VN_04_01_0292  VN_04_01_0292     -9  30898  20952  0.813482\n",
      "\n",
      "[152 rows x 6 columns]\n"
     ]
    }
   ],
   "source": [
    "#export PRS result to csv\n",
    "prs_export = UK_biobank_processor.prs_test['clumping']['best_fit']\n",
    "df = pd.DataFrame(prs_export)\n",
    "print(df)\n",
    "#df.to_csv('prs_clump.csv')"
   ]
  },
  {
   "cell_type": "code",
   "execution_count": 6,
   "id": "53211cc4",
   "metadata": {},
   "outputs": [
    {
     "name": "stdout",
     "output_type": "stream",
     "text": [
      "0.07898648045642831\n"
     ]
    }
   ],
   "source": [
    "#get performance r2 metric\n",
    "r2 = UK_biobank_processor.performance['clumping']['coef_squared']\n",
    "print(r2)"
   ]
  },
  {
   "cell_type": "code",
   "execution_count": 7,
   "id": "afdffac8-845d-4419-af5c-bea573171b13",
   "metadata": {
    "tags": []
   },
   "outputs": [
    {
     "name": "stdout",
     "output_type": "stream",
     "text": [
      "Double weight method is running...\n",
      "[1] \"Adjusted BETA is done!\"\n",
      "Done Double weight!\n",
      "The double weight result stores in .adjusted_ss['double_weight']!\n",
      "--- Done in 0:01:34 ---\n",
      "Extracting adjusted sumstats from double_weight method...\n",
      "Generating PRS...\n",
      "PLINK v1.90b6.21 64-bit (19 Oct 2020)          www.cog-genomics.org/plink/1.9/\n",
      "(C) 2005-2020 Shaun Purcell, Christopher Chang   GNU General Public License v3\n",
      "Logging to tmp_results.log.\n",
      "Options in effect:\n",
      "  --bfile UKBB_targets/preprocessed_validation\n",
      "  --out tmp_results\n",
      "  --q-score-range tmp_range_list tmp_SNP.pvalue\n",
      "  --score UKBB_targets/adjusted_sumstats_double_weight 3 4 9 header sum\n",
      "\n",
      "514394 MB RAM detected; reserving 257197 MB for main workspace.\n",
      "987036 variants loaded from .bim file.\n",
      "152 people (0 males, 0 females, 152 ambiguous) loaded from .fam.\n",
      "Ambiguous sex IDs written to tmp_results.nosex .\n",
      "Using 1 thread (no multithreaded calculations invoked).\n",
      "Before main variant filters, 152 founders and 0 nonfounders present.\n",
      "Calculating allele frequencies... 10111213141516171819202122232425262728293031323334353637383940414243444546474849505152535455565758596061626364656667686970717273747576777879808182838485868788899091929394959697989 done.\n",
      "Total genotyping rate is 0.999535.\n",
      "987036 variants and 152 people pass filters and QC.\n",
      "Note: No phenotypes present.\n",
      "--score: 657928 valid predictors loaded.\n"
     ]
    },
    {
     "name": "stderr",
     "output_type": "stream",
     "text": [
      "Warning: 377 lines skipped in --score file (0 due to variant ID mismatch, 377\n",
      "due to allele code mismatch); see tmp_results.nopred for details.\n",
      "Warning: 378 lines skipped in --q-score-range data file.\n"
     ]
    },
    {
     "name": "stdout",
     "output_type": "stream",
     "text": [
      "--score: 17 ranges processed.\n",
      "Results written to tmp_results.*.profile.\n",
      "PRS is generated!\n",
      "The PRS result stores in .prs_validation['double_weight']!\n",
      "--- Done in 0:00:03 ---\n",
      "The best fit p-value is 0.1\n",
      "The best fit result is stored in processor.prs_validation['double_weight']['best_fit']\n",
      "The best fit result is stored in processor.tuning['double_weight']['coef_squared']\n",
      "Extracting adjusted sumstats from double_weight method...\n",
      "Generating PRS...\n",
      "PLINK v1.90b6.21 64-bit (19 Oct 2020)          www.cog-genomics.org/plink/1.9/\n",
      "(C) 2005-2020 Shaun Purcell, Christopher Chang   GNU General Public License v3\n",
      "Logging to tmp_results.log.\n",
      "Options in effect:\n",
      "  --bfile UKBB_targets/preprocessed_test\n",
      "  --out tmp_results\n",
      "  --q-score-range tmp_range_list tmp_SNP.pvalue\n",
      "  --score UKBB_targets/adjusted_sumstats_double_weight 3 4 9 header sum\n",
      "\n",
      "514394 MB RAM detected; reserving 257197 MB for main workspace.\n",
      "987036 variants loaded from .bim file.\n",
      "152 people (0 males, 0 females, 152 ambiguous) loaded from .fam.\n",
      "Ambiguous sex IDs written to tmp_results.nosex .\n",
      "Using 1 thread (no multithreaded calculations invoked).\n",
      "Before main variant filters, 152 founders and 0 nonfounders present.\n",
      "Calculating allele frequencies... 10111213141516171819202122232425262728293031323334353637383940414243444546474849505152535455565758596061626364656667686970717273747576777879808182838485868788899091929394959697989 done.\n",
      "Total genotyping rate is 0.999556.\n",
      "987036 variants and 152 people pass filters and QC.\n",
      "Note: No phenotypes present.\n",
      "--score: 657928 valid predictors loaded.\n"
     ]
    },
    {
     "name": "stderr",
     "output_type": "stream",
     "text": [
      "Warning: 377 lines skipped in --score file (0 due to variant ID mismatch, 377\n",
      "due to allele code mismatch); see tmp_results.nopred for details.\n",
      "Warning: 378 lines skipped in --q-score-range data file.\n"
     ]
    },
    {
     "name": "stdout",
     "output_type": "stream",
     "text": [
      "--score: 1 range processed.\n",
      "Results written to tmp_results.*.profile.\n",
      "PRS is generated!\n",
      "The PRS result stores in .prs_test['double_weight']!\n",
      "--- Done in 0:00:02 ---\n",
      "The best fit p-value is 0.1\n",
      "The best fit result is stored in processor.prs_test['double_weight']['best_fit']\n",
      "The best fit result is stored in processor.performance['double_weight']['coef_squared']\n"
     ]
    }
   ],
   "source": [
    "#Run Double Weight method PRS Scoring\n",
    "tprs.methods.double_weight(UK_biobank_processor)\n",
    "tprs.scoring.generate_prs(UK_biobank_processor,method=\"double_weight\")\n",
    "tprs.metrics.coef_squared_evaluation(UK_biobank_processor,method=\"double_weight\",trait_col=\"Height\",prs_col=\"SCORESUM\")\n",
    "tprs.scoring.generate_prs(UK_biobank_processor,method=\"double_weight\",validate=False)\n",
    "tprs.metrics.coef_squared_evaluation(UK_biobank_processor,method=\"double_weight\",trait_col=\"Height\",prs_col=\"SCORESUM\",validate=False)"
   ]
  },
  {
   "cell_type": "code",
   "execution_count": 8,
   "id": "5df4686a",
   "metadata": {},
   "outputs": [
    {
     "name": "stdout",
     "output_type": "stream",
     "text": [
      "               FID            IID  PHENO     CNT    CNT2  SCORESUM\n",
      "0    VN_01_00_0016  VN_01_00_0016     -9  413180  280682  0.117936\n",
      "1    VN_01_00_0029  VN_01_00_0029     -9  413178  282016  0.118334\n",
      "2    VN_01_00_0062  VN_01_00_0062     -9  413154  282303  0.121303\n",
      "3    VN_01_00_0067  VN_01_00_0067     -9  413180  282532  0.118992\n",
      "4    VN_01_00_0077  VN_01_00_0077     -9  413176  280272  0.117919\n",
      "..             ...            ...    ...     ...     ...       ...\n",
      "147  VN_04_01_0282  VN_04_01_0282     -9  413158  279992  0.117309\n",
      "148  VN_04_01_0283  VN_04_01_0283     -9  413172  281294  0.118043\n",
      "149  VN_04_01_0287  VN_04_01_0287     -9  413158  280948  0.119528\n",
      "150  VN_04_01_0291  VN_04_01_0291     -9  413174  280855  0.118889\n",
      "151  VN_04_01_0292  VN_04_01_0292     -9  413180  282356  0.118682\n",
      "\n",
      "[152 rows x 6 columns]\n"
     ]
    }
   ],
   "source": [
    "#export PRS result to csv\n",
    "prs_export = UK_biobank_processor.prs_test['double_weight']['best_fit']\n",
    "df = pd.DataFrame(prs_export)\n",
    "print(df)\n",
    "#df.to_csv('prs_clump.csv')"
   ]
  },
  {
   "cell_type": "code",
   "execution_count": 9,
   "id": "31979872",
   "metadata": {},
   "outputs": [
    {
     "name": "stdout",
     "output_type": "stream",
     "text": [
      "0.06887640746720536\n"
     ]
    }
   ],
   "source": [
    "#get performance r2 metric\n",
    "r2 = UK_biobank_processor.performance['double_weight']['coef_squared']\n",
    "print(r2)"
   ]
  },
  {
   "cell_type": "code",
   "execution_count": 10,
   "id": "219b9abc",
   "metadata": {},
   "outputs": [
    {
     "name": "stdout",
     "output_type": "stream",
     "text": [
      "Reading the Test genotype...\n"
     ]
    },
    {
     "name": "stderr",
     "output_type": "stream",
     "text": [
      "Mapping files: 100%|█████████████████████████████████████████████████████████████████████████████| 3/3 [00:02<00:00,  1.22it/s]\n"
     ]
    },
    {
     "name": "stdout",
     "output_type": "stream",
     "text": [
      "Reading the Validation genotype...\n"
     ]
    },
    {
     "name": "stderr",
     "output_type": "stream",
     "text": [
      "Mapping files: 100%|█████████████████████████████████████████████████████████████████████████████| 3/3 [00:02<00:00,  1.31it/s]\n"
     ]
    },
    {
     "name": "stdout",
     "output_type": "stream",
     "text": [
      "Phenotype stored in .phenotype\n",
      "Phenotype stored in .phenotype_val\n"
     ]
    }
   ],
   "source": [
    "JPN_biobank_processor = tprs.read_input(prefix_test=\"data/test_data_VN\",\n",
    "                test_phenotype=\"data/test.phenotype\",\n",
    "                sumstats_path=\"data/JPN_height_sumstat.ss\",\n",
    "                prefix_validation=\"data/val_data_VN\",\n",
    "                validation_phenotype=\"data/validation.phenotype\",\n",
    "                workdir=\"JPN_targets\")"
   ]
  },
  {
   "cell_type": "code",
   "execution_count": 11,
   "id": "bfdbc84e",
   "metadata": {},
   "outputs": [
    {
     "name": "stdout",
     "output_type": "stream",
     "text": [
      "PLINK v1.90b6.21 64-bit (19 Oct 2020)          www.cog-genomics.org/plink/1.9/\n",
      "(C) 2005-2020 Shaun Purcell, Christopher Chang   GNU General Public License v3\n",
      "Logging to tmp.log.\n",
      "Options in effect:\n",
      "--bfile tmp\n",
      "--indep-pairwise 200 50 0.25\n",
      "--out tmp\n",
      "\n",
      "514394 MB RAM detected; reserving 257197 MB for main workspace.\n",
      "987036 variants loaded from .bim file.\n",
      "152 people (0 males, 0 females, 152 ambiguous) loaded from .fam.\n",
      "Ambiguous sex IDs written to tmp.nosex .\n",
      "Using 1 thread (no multithreaded calculations invoked).\n",
      "Before main variant filters, 152 founders and 0 nonfounders present.\n",
      "Calculating allele frequencies... 10111213141516171819202122232425262728293031323334353637383940414243444546474849505152535455565758596061626364656667686970717273747576777879808182838485868788899091929394959697989 done.\n",
      "Total genotyping rate is 0.999556.\n",
      "987036 variants and 152 people pass filters and QC.\n",
      "Note: No phenotypes present.\n",
      "Pruned 72115 variants from chromosome 1, leaving 8751.\n",
      "Pruned 73729 variants from chromosome 2, leaving 8133.\n",
      "Pruned 61501 variants from chromosome 3, leaving 7335.\n",
      "Pruned 54590 variants from chromosome 4, leaving 6764.\n",
      "Pruned 55251 variants from chromosome 5, leaving 6522.\n",
      "Pruned 59723 variants from chromosome 6, leaving 6503.\n",
      "Pruned 48477 variants from chromosome 7, leaving 5985.\n",
      "Pruned 48326 variants from chromosome 8, leaving 5473.\n",
      "Pruned 41048 variants from chromosome 9, leaving 5236.\n",
      "Pruned 47131 variants from chromosome 10, leaving 5665.\n",
      "Pruned 45766 variants from chromosome 11, leaving 5175.\n",
      "Pruned 42989 variants from chromosome 12, leaving 5554.\n",
      "Pruned 32906 variants from chromosome 13, leaving 4107.\n",
      "Pruned 28949 variants from chromosome 14, leaving 3742.\n",
      "Pruned 26659 variants from chromosome 15, leaving 3716.\n",
      "Pruned 26775 variants from chromosome 16, leaving 4036.\n",
      "Pruned 22812 variants from chromosome 17, leaving 3769.\n",
      "Pruned 25370 variants from chromosome 18, leaving 3733.\n",
      "Pruned 15737 variants from chromosome 19, leaving 2965.\n",
      "Pruned 22536 variants from chromosome 20, leaving 3303.\n",
      "Pruned 12441 variants from chromosome 21, leaving 1781.\n",
      "Pruned 11938 variants from chromosome 22, leaving 2019.\n",
      "Pruning complete.  876769 of 987036 variants removed.\n",
      "Marker lists written to tmp.prune.in and tmp.prune.out .\n",
      "PLINK v1.90b6.21 64-bit (19 Oct 2020)          www.cog-genomics.org/plink/1.9/\n",
      "(C) 2005-2020 Shaun Purcell, Christopher Chang   GNU General Public License v3\n",
      "Logging to tmp.log.\n",
      "Options in effect:\n",
      "--bfile tmp\n",
      "--extract tmp.prune.in\n",
      "--out tmp\n",
      "--pca 6\n",
      "\n",
      "514394 MB RAM detected; reserving 257197 MB for main workspace.\n",
      "987036 variants loaded from .bim file.\n",
      "152 people (0 males, 0 females, 152 ambiguous) loaded from .fam.\n",
      "Ambiguous sex IDs written to tmp.nosex .\n",
      "--extract: 110267 variants remaining.\n",
      "Using up to 55 threads (change this with --threads).\n",
      "Before main variant filters, 152 founders and 0 nonfounders present.\n",
      "Calculating allele frequencies... 10111213141516171819202122232425262728293031323334353637383940414243444546474849505152535455565758596061626364656667686970717273747576777879808182838485868788899091929394959697989 done.\n",
      "Total genotyping rate is 0.999491.\n",
      "110267 variants and 152 people pass filters and QC.\n",
      "Note: No phenotypes present.\n",
      "Relationship matrix calculation complete.\n",
      "--pca: Results saved to tmp.eigenval and tmp.eigenvec .\n",
      "PCA result is stored in .phenotype\n",
      "PLINK v1.90b6.21 64-bit (19 Oct 2020)          www.cog-genomics.org/plink/1.9/\n",
      "(C) 2005-2020 Shaun Purcell, Christopher Chang   GNU General Public License v3\n",
      "Logging to tmp.log.\n",
      "Options in effect:\n",
      "--bfile tmp\n",
      "--indep-pairwise 200 50 0.25\n",
      "--out tmp\n",
      "\n",
      "514394 MB RAM detected; reserving 257197 MB for main workspace.\n",
      "987036 variants loaded from .bim file.\n",
      "152 people (0 males, 0 females, 152 ambiguous) loaded from .fam.\n",
      "Ambiguous sex IDs written to tmp.nosex .\n",
      "Using 1 thread (no multithreaded calculations invoked).\n",
      "Before main variant filters, 152 founders and 0 nonfounders present.\n",
      "Calculating allele frequencies... 10111213141516171819202122232425262728293031323334353637383940414243444546474849505152535455565758596061626364656667686970717273747576777879808182838485868788899091929394959697989 done.\n",
      "Total genotyping rate is 0.999535.\n",
      "987036 variants and 152 people pass filters and QC.\n",
      "Note: No phenotypes present.\n",
      "Pruned 72133 variants from chromosome 1, leaving 8733.\n",
      "Pruned 73718 variants from chromosome 2, leaving 8144.\n",
      "Pruned 61474 variants from chromosome 3, leaving 7362.\n",
      "Pruned 54622 variants from chromosome 4, leaving 6732.\n",
      "Pruned 55182 variants from chromosome 5, leaving 6591.\n",
      "Pruned 59768 variants from chromosome 6, leaving 6458.\n",
      "Pruned 48484 variants from chromosome 7, leaving 5978.\n",
      "Pruned 48338 variants from chromosome 8, leaving 5461.\n",
      "Pruned 40981 variants from chromosome 9, leaving 5303.\n",
      "Pruned 47148 variants from chromosome 10, leaving 5648.\n",
      "Pruned 45782 variants from chromosome 11, leaving 5159.\n",
      "Pruned 43036 variants from chromosome 12, leaving 5507.\n",
      "Pruned 32903 variants from chromosome 13, leaving 4110.\n",
      "Pruned 28996 variants from chromosome 14, leaving 3695.\n",
      "Pruned 26602 variants from chromosome 15, leaving 3773.\n",
      "Pruned 26753 variants from chromosome 16, leaving 4058.\n",
      "Pruned 22850 variants from chromosome 17, leaving 3731.\n",
      "Pruned 25332 variants from chromosome 18, leaving 3771.\n",
      "Pruned 15735 variants from chromosome 19, leaving 2967.\n",
      "Pruned 22566 variants from chromosome 20, leaving 3273.\n",
      "Pruned 12395 variants from chromosome 21, leaving 1827.\n",
      "Pruned 11947 variants from chromosome 22, leaving 2010.\n",
      "Pruning complete.  876745 of 987036 variants removed.\n",
      "Marker lists written to tmp.prune.in and tmp.prune.out .\n",
      "PLINK v1.90b6.21 64-bit (19 Oct 2020)          www.cog-genomics.org/plink/1.9/\n",
      "(C) 2005-2020 Shaun Purcell, Christopher Chang   GNU General Public License v3\n",
      "Logging to tmp.log.\n",
      "Options in effect:\n",
      "--bfile tmp\n",
      "--extract tmp.prune.in\n",
      "--out tmp\n",
      "--pca 6\n",
      "\n",
      "514394 MB RAM detected; reserving 257197 MB for main workspace.\n",
      "987036 variants loaded from .bim file.\n",
      "152 people (0 males, 0 females, 152 ambiguous) loaded from .fam.\n",
      "Ambiguous sex IDs written to tmp.nosex .\n",
      "--extract: 110291 variants remaining.\n",
      "Using up to 55 threads (change this with --threads).\n",
      "Before main variant filters, 152 founders and 0 nonfounders present.\n",
      "Calculating allele frequencies... 10111213141516171819202122232425262728293031323334353637383940414243444546474849505152535455565758596061626364656667686970717273747576777879808182838485868788899091929394959697989 done.\n",
      "Total genotyping rate is 0.999489.\n",
      "110291 variants and 152 people pass filters and QC.\n",
      "Note: No phenotypes present.\n",
      "Relationship matrix calculation complete.\n",
      "--pca: Results saved to tmp.eigenval and tmp.eigenvec .\n",
      "PCA result is stored in .phenotype\n",
      "Stored sumstats JPN_targets/preprocessed_sumstats in working directory\n",
      "Stored test genotype JPN_targets/preprocessed_test in working directory\n",
      "Stored validation genotype JPN_targets/preprocessed_test in working directory\n",
      "Stored test genotype JPN_targets/preprocessed_test in working directory\n"
     ]
    }
   ],
   "source": [
    "#Execute preprocess step, leveraging PLINK\n",
    "tprs.Preprocessing(JPN_biobank_processor, n_components=6)"
   ]
  },
  {
   "cell_type": "code",
   "execution_count": 12,
   "id": "fb657c5e",
   "metadata": {},
   "outputs": [
    {
     "name": "stdout",
     "output_type": "stream",
     "text": [
      "Clumping is running...\n",
      "PLINK v1.90b6.21 64-bit (19 Oct 2020)          www.cog-genomics.org/plink/1.9/\n",
      "(C) 2005-2020 Shaun Purcell, Christopher Chang   GNU General Public License v3\n",
      "Logging to tmp_out.log.\n",
      "Options in effect:\n",
      "--bfile JPN_targets/preprocessed_validation\n",
      "--clump JPN_targets/preprocessed_sumstats\n",
      "--clump-field P\n",
      "--clump-kb 250\n",
      "--clump-p1 1\n",
      "--clump-r2 0.5\n",
      "--clump-snp-field SNP\n",
      "--out tmp_out\n",
      "\n",
      "514394 MB RAM detected; reserving 257197 MB for main workspace.\n",
      "987036 variants loaded from .bim file.\n",
      "152 people (0 males, 0 females, 152 ambiguous) loaded from .fam.\n",
      "Ambiguous sex IDs written to tmp_out.nosex .\n",
      "Using 1 thread (no multithreaded calculations invoked).\n",
      "Before main variant filters, 152 founders and 0 nonfounders present.\n",
      "Calculating allele frequencies... 10111213141516171819202122232425262728293031323334353637383940414243444546474849505152535455565758596061626364656667686970717273747576777879808182838485868788899091929394959697989 done.\n",
      "Total genotyping rate is 0.999535.\n",
      "987036 variants and 152 people pass filters and QC.\n",
      "Note: No phenotypes present.\n",
      "--clump: 237112 clumps formed from 974339 top variants.\n",
      "Results written to tmp_out.clumped .\n",
      "Done clumping!\n",
      "The clumping result stores in .adjusted_ss['clumping']!\n",
      "--- Done in 0:00:35 ---\n",
      "Extracting adjusted sumstats from clumping method...\n",
      "Generating PRS...\n",
      "PLINK v1.90b6.21 64-bit (19 Oct 2020)          www.cog-genomics.org/plink/1.9/\n",
      "(C) 2005-2020 Shaun Purcell, Christopher Chang   GNU General Public License v3\n",
      "Logging to tmp_results.log.\n",
      "Options in effect:\n",
      "  --bfile JPN_targets/preprocessed_validation\n",
      "  --out tmp_results\n",
      "  --q-score-range tmp_range_list tmp_SNP.pvalue\n",
      "  --score JPN_targets/adjusted_sumstats_clumping 3 4 9 header sum\n",
      "\n",
      "514394 MB RAM detected; reserving 257197 MB for main workspace.\n",
      "987036 variants loaded from .bim file.\n",
      "152 people (0 males, 0 females, 152 ambiguous) loaded from .fam.\n",
      "Ambiguous sex IDs written to tmp_results.nosex .\n",
      "Using 1 thread (no multithreaded calculations invoked).\n",
      "Before main variant filters, 152 founders and 0 nonfounders present.\n",
      "Calculating allele frequencies... 10111213141516171819202122232425262728293031323334353637383940414243444546474849505152535455565758596061626364656667686970717273747576777879808182838485868788899091929394959697989 done.\n",
      "Total genotyping rate is 0.999535.\n",
      "987036 variants and 152 people pass filters and QC.\n",
      "Note: No phenotypes present.\n",
      "--score: 236945 valid predictors loaded.\n"
     ]
    },
    {
     "name": "stderr",
     "output_type": "stream",
     "text": [
      "Warning: 167 lines skipped in --score file (0 due to variant ID mismatch, 167\n",
      "due to allele code mismatch); see tmp_results.nopred for details.\n",
      "Warning: 168 lines skipped in --q-score-range data file.\n"
     ]
    },
    {
     "name": "stdout",
     "output_type": "stream",
     "text": [
      "--score: 17 ranges processed.\n",
      "Results written to tmp_results.*.profile.\n",
      "PRS is generated!\n",
      "The PRS result stores in .prs_validation['clumping']!\n",
      "--- Done in 0:00:02 ---\n",
      "The best fit p-value is 0.001\n",
      "The best fit result is stored in processor.prs_validation['clumping']['best_fit']\n",
      "The best fit result is stored in processor.tuning['clumping']['coef_squared']\n",
      "Extracting adjusted sumstats from clumping method...\n",
      "Generating PRS...\n",
      "PLINK v1.90b6.21 64-bit (19 Oct 2020)          www.cog-genomics.org/plink/1.9/\n",
      "(C) 2005-2020 Shaun Purcell, Christopher Chang   GNU General Public License v3\n",
      "Logging to tmp_results.log.\n",
      "Options in effect:\n",
      "  --bfile JPN_targets/preprocessed_test\n",
      "  --out tmp_results\n",
      "  --q-score-range tmp_range_list tmp_SNP.pvalue\n",
      "  --score JPN_targets/adjusted_sumstats_clumping 3 4 9 header sum\n",
      "\n",
      "514394 MB RAM detected; reserving 257197 MB for main workspace.\n",
      "987036 variants loaded from .bim file.\n",
      "152 people (0 males, 0 females, 152 ambiguous) loaded from .fam.\n",
      "Ambiguous sex IDs written to tmp_results.nosex .\n",
      "Using 1 thread (no multithreaded calculations invoked).\n",
      "Before main variant filters, 152 founders and 0 nonfounders present.\n",
      "Calculating allele frequencies... 10111213141516171819202122232425262728293031323334353637383940414243444546474849505152535455565758596061626364656667686970717273747576777879808182838485868788899091929394959697989 done.\n",
      "Total genotyping rate is 0.999556.\n",
      "987036 variants and 152 people pass filters and QC.\n",
      "Note: No phenotypes present.\n",
      "--score: 236945 valid predictors loaded.\n",
      "--score: 1 range processed.\n",
      "Results written to tmp_results.*.profile.\n",
      "PRS is generated!\n",
      "The PRS result stores in .prs_test['clumping']!\n"
     ]
    },
    {
     "name": "stderr",
     "output_type": "stream",
     "text": [
      "Warning: 167 lines skipped in --score file (0 due to variant ID mismatch, 167\n",
      "due to allele code mismatch); see tmp_results.nopred for details.\n",
      "Warning: 168 lines skipped in --q-score-range data file.\n"
     ]
    },
    {
     "name": "stdout",
     "output_type": "stream",
     "text": [
      "--- Done in 0:00:01 ---\n",
      "The best fit p-value is 0.001\n",
      "The best fit result is stored in processor.prs_test['clumping']['best_fit']\n",
      "The best fit result is stored in processor.performance['clumping']['coef_squared']\n"
     ]
    }
   ],
   "source": [
    "#Run P+T Clumping PRS Scoring\n",
    "tprs.methods.clumping(JPN_biobank_processor)\n",
    "tprs.scoring.generate_prs(JPN_biobank_processor,method=\"clumping\")\n",
    "tprs.metrics.coef_squared_evaluation(JPN_biobank_processor,method=\"clumping\",trait_col=\"Height\",prs_col=\"SCORESUM\")\n",
    "tprs.scoring.generate_prs(JPN_biobank_processor,method=\"clumping\",validate=False)\n",
    "tprs.metrics.coef_squared_evaluation(JPN_biobank_processor,method=\"clumping\",trait_col=\"Height\",prs_col=\"SCORESUM\",validate=False)"
   ]
  },
  {
   "cell_type": "code",
   "execution_count": 13,
   "id": "ba219b44",
   "metadata": {},
   "outputs": [
    {
     "name": "stdout",
     "output_type": "stream",
     "text": [
      "               FID            IID  PHENO    CNT   CNT2  SCORESUM\n",
      "0    VN_01_00_0016  VN_01_00_0016     -9  18568  11325 -3.467360\n",
      "1    VN_01_00_0029  VN_01_00_0029     -9  18566  10991 -4.923210\n",
      "2    VN_01_00_0062  VN_01_00_0062     -9  18568  11192  3.511770\n",
      "3    VN_01_00_0067  VN_01_00_0067     -9  18566  11271 -0.901043\n",
      "4    VN_01_00_0077  VN_01_00_0077     -9  18568  11288 -1.072290\n",
      "..             ...            ...    ...    ...    ...       ...\n",
      "147  VN_04_01_0282  VN_04_01_0282     -9  18564  11280 -3.540640\n",
      "148  VN_04_01_0283  VN_04_01_0283     -9  18566  11060 -2.763620\n",
      "149  VN_04_01_0287  VN_04_01_0287     -9  18562  11179 -2.961420\n",
      "150  VN_04_01_0291  VN_04_01_0291     -9  18570  11179 -1.884210\n",
      "151  VN_04_01_0292  VN_04_01_0292     -9  18568  11219 -1.370740\n",
      "\n",
      "[152 rows x 6 columns]\n"
     ]
    }
   ],
   "source": [
    "#export PRS result to csv\n",
    "prs_export = JPN_biobank_processor.prs_test['clumping']['best_fit']\n",
    "df = pd.DataFrame(prs_export)\n",
    "print(df)\n",
    "#df.to_csv('prs_clump_JPN.csv')"
   ]
  },
  {
   "cell_type": "code",
   "execution_count": 14,
   "id": "481b08a4",
   "metadata": {},
   "outputs": [
    {
     "name": "stdout",
     "output_type": "stream",
     "text": [
      "0.11293872207633915\n"
     ]
    }
   ],
   "source": [
    "#get performance r2 metric\n",
    "r2 = JPN_biobank_processor.performance['clumping']['coef_squared']\n",
    "print(r2)"
   ]
  },
  {
   "cell_type": "code",
   "execution_count": 15,
   "id": "70fef214",
   "metadata": {},
   "outputs": [
    {
     "name": "stdout",
     "output_type": "stream",
     "text": [
      "Double weight method is running...\n",
      "[1] \"Adjusted BETA is done!\"\n",
      "Done Double weight!\n",
      "The double weight result stores in .adjusted_ss['double_weight']!\n",
      "--- Done in 0:02:02 ---\n",
      "Extracting adjusted sumstats from double_weight method...\n",
      "Generating PRS...\n",
      "PLINK v1.90b6.21 64-bit (19 Oct 2020)          www.cog-genomics.org/plink/1.9/\n",
      "(C) 2005-2020 Shaun Purcell, Christopher Chang   GNU General Public License v3\n",
      "Logging to tmp_results.log.\n",
      "Options in effect:\n",
      "  --bfile JPN_targets/preprocessed_validation\n",
      "  --out tmp_results\n",
      "  --q-score-range tmp_range_list tmp_SNP.pvalue\n",
      "  --score JPN_targets/adjusted_sumstats_double_weight 3 4 9 header sum\n",
      "\n",
      "514394 MB RAM detected; reserving 257197 MB for main workspace.\n",
      "987036 variants loaded from .bim file.\n",
      "152 people (0 males, 0 females, 152 ambiguous) loaded from .fam.\n",
      "Ambiguous sex IDs written to tmp_results.nosex .\n",
      "Using 1 thread (no multithreaded calculations invoked).\n",
      "Before main variant filters, 152 founders and 0 nonfounders present.\n",
      "Calculating allele frequencies... 10111213141516171819202122232425262728293031323334353637383940414243444546474849505152535455565758596061626364656667686970717273747576777879808182838485868788899091929394959697989 done.\n",
      "Total genotyping rate is 0.999535.\n",
      "987036 variants and 152 people pass filters and QC.\n",
      "Note: No phenotypes present.\n"
     ]
    },
    {
     "name": "stderr",
     "output_type": "stream",
     "text": [
      "Warning: 557 lines skipped in --score file (0 due to variant ID mismatch, 557\n",
      "due to allele code mismatch); see tmp_results.nopred for details.\n",
      "Warning: 558 lines skipped in --q-score-range data file.\n"
     ]
    },
    {
     "name": "stdout",
     "output_type": "stream",
     "text": [
      "--score: 973782 valid predictors loaded.\n",
      "--score: 17 ranges processed.\n",
      "Results written to tmp_results.*.profile.\n",
      "PRS is generated!\n",
      "The PRS result stores in .prs_validation['double_weight']!\n",
      "--- Done in 0:00:04 ---\n",
      "The best fit p-value is 0.1\n",
      "The best fit result is stored in processor.prs_validation['double_weight']['best_fit']\n",
      "The best fit result is stored in processor.tuning['double_weight']['coef_squared']\n",
      "Extracting adjusted sumstats from double_weight method...\n",
      "Generating PRS...\n",
      "PLINK v1.90b6.21 64-bit (19 Oct 2020)          www.cog-genomics.org/plink/1.9/\n",
      "(C) 2005-2020 Shaun Purcell, Christopher Chang   GNU General Public License v3\n",
      "Logging to tmp_results.log.\n",
      "Options in effect:\n",
      "  --bfile JPN_targets/preprocessed_test\n",
      "  --out tmp_results\n",
      "  --q-score-range tmp_range_list tmp_SNP.pvalue\n",
      "  --score JPN_targets/adjusted_sumstats_double_weight 3 4 9 header sum\n",
      "\n",
      "514394 MB RAM detected; reserving 257197 MB for main workspace.\n",
      "987036 variants loaded from .bim file.\n",
      "152 people (0 males, 0 females, 152 ambiguous) loaded from .fam.\n",
      "Ambiguous sex IDs written to tmp_results.nosex .\n",
      "Using 1 thread (no multithreaded calculations invoked).\n",
      "Before main variant filters, 152 founders and 0 nonfounders present.\n",
      "Calculating allele frequencies... 10111213141516171819202122232425262728293031323334353637383940414243444546474849505152535455565758596061626364656667686970717273747576777879808182838485868788899091929394959697989 done.\n",
      "Total genotyping rate is 0.999556.\n",
      "987036 variants and 152 people pass filters and QC.\n",
      "Note: No phenotypes present.\n"
     ]
    },
    {
     "name": "stderr",
     "output_type": "stream",
     "text": [
      "Warning: 557 lines skipped in --score file (0 due to variant ID mismatch, 557\n",
      "due to allele code mismatch); see tmp_results.nopred for details.\n",
      "Warning: 558 lines skipped in --q-score-range data file.\n"
     ]
    },
    {
     "name": "stdout",
     "output_type": "stream",
     "text": [
      "--score: 973782 valid predictors loaded.\n",
      "--score: 1 range processed.\n",
      "Results written to tmp_results.*.profile.\n",
      "PRS is generated!\n",
      "The PRS result stores in .prs_test['double_weight']!\n",
      "--- Done in 0:00:02 ---\n",
      "The best fit p-value is 0.1\n",
      "The best fit result is stored in processor.prs_test['double_weight']['best_fit']\n",
      "The best fit result is stored in processor.performance['double_weight']['coef_squared']\n"
     ]
    }
   ],
   "source": [
    "#Run Double Weight method PRS Scoring\n",
    "tprs.methods.double_weight(JPN_biobank_processor)\n",
    "tprs.scoring.generate_prs(JPN_biobank_processor,method=\"double_weight\")\n",
    "tprs.metrics.coef_squared_evaluation(JPN_biobank_processor,method=\"double_weight\",trait_col=\"Height\",prs_col=\"SCORESUM\")\n",
    "tprs.scoring.generate_prs(JPN_biobank_processor,method=\"double_weight\",validate=False)\n",
    "tprs.metrics.coef_squared_evaluation(JPN_biobank_processor,method=\"double_weight\",trait_col=\"Height\",prs_col=\"SCORESUM\",validate=False)"
   ]
  },
  {
   "cell_type": "code",
   "execution_count": 16,
   "id": "df70c82a",
   "metadata": {},
   "outputs": [
    {
     "name": "stdout",
     "output_type": "stream",
     "text": [
      "               FID            IID  PHENO     CNT    CNT2  SCORESUM\n",
      "0    VN_01_00_0016  VN_01_00_0016     -9  481914  283141  0.101371\n",
      "1    VN_01_00_0029  VN_01_00_0029     -9  481916  282486  0.100802\n",
      "2    VN_01_00_0062  VN_01_00_0062     -9  481916  283119  0.104648\n",
      "3    VN_01_00_0067  VN_01_00_0067     -9  481916  283993  0.103970\n",
      "4    VN_01_00_0077  VN_01_00_0077     -9  481908  282763  0.101916\n",
      "..             ...            ...    ...     ...     ...       ...\n",
      "147  VN_04_01_0282  VN_04_01_0282     -9  481892  281979  0.101991\n",
      "148  VN_04_01_0283  VN_04_01_0283     -9  481914  281769  0.101602\n",
      "149  VN_04_01_0287  VN_04_01_0287     -9  481914  283495  0.103208\n",
      "150  VN_04_01_0291  VN_04_01_0291     -9  481910  283572  0.103372\n",
      "151  VN_04_01_0292  VN_04_01_0292     -9  481924  283212  0.102625\n",
      "\n",
      "[152 rows x 6 columns]\n"
     ]
    }
   ],
   "source": [
    "#export PRS result to csv\n",
    "prs_export = JPN_biobank_processor.prs_test['double_weight']['best_fit']\n",
    "df = pd.DataFrame(prs_export)\n",
    "print(df)\n",
    "#df.to_csv('prs_dw_JPN.csv')"
   ]
  },
  {
   "cell_type": "code",
   "execution_count": 17,
   "id": "56212317",
   "metadata": {},
   "outputs": [
    {
     "name": "stdout",
     "output_type": "stream",
     "text": [
      "0.1059848963653115\n"
     ]
    }
   ],
   "source": [
    "#get performance r2 metric\n",
    "r2 = JPN_biobank_processor.performance['double_weight']['coef_squared']\n",
    "print(r2)"
   ]
  },
  {
   "cell_type": "code",
   "execution_count": 18,
   "id": "d426d9f3-5315-4fa8-99ed-343b442b3a51",
   "metadata": {},
   "outputs": [
    {
     "data": {
      "image/png": "[encoded data removed]",
      "text/plain": [
       "<Figure size 432x288 with 1 Axes>"
      ]
     },
     "metadata": {
      "needs_background": "light"
     },
     "output_type": "display_data"
    }
   ],
   "source": [
    "#Visualize UK BioBank R2 outputs\n",
    "tprs.visualization.visualize_performance(UK_biobank_processor,metric=\"coef_squared\",plot_type=\"bar_plot\",cmap=\"tab20\")"
   ]
  },
  {
   "cell_type": "code",
   "execution_count": 19,
   "id": "64b88a85",
   "metadata": {},
   "outputs": [
    {
     "data": {
      "image/png": "[encoded data removed]",
      "text/plain": [
       "<Figure size 504x504 with 1 Axes>"
      ]
     },
     "metadata": {},
     "output_type": "display_data"
    }
   ],
   "source": [
    "#Visualize Japan BioBank R2 outputs\n",
    "tprs.visualization.visualize_performance(JPN_biobank_processor,metric=\"coef_squared\",plot_type=\"bar_plot\",cmap=\"tab20\")"
   ]
  },
  {
   "cell_type": "code",
   "execution_count": null,
   "id": "a17def6a",
   "metadata": {},
   "outputs": [],
   "source": []
  },
  {
   "cell_type": "code",
   "execution_count": null,
   "id": "81035415",
   "metadata": {},
   "outputs": [],
   "source": []
  }
 ],
 "metadata": {
  "kernelspec": {
   "display_name": "Python 3 (ipykernel)",
   "language": "python",
   "name": "python3"
  },
  "language_info": {
   "codemirror_mode": {
    "name": "ipython",
    "version": 3
   },
   "file_extension": ".py",
   "mimetype": "text/x-python",
   "name": "python",
   "nbconvert_exporter": "python",
   "pygments_lexer": "ipython3",
   "version": "3.8.10"
  }
 },
 "nbformat": 4,
 "nbformat_minor": 5
}
